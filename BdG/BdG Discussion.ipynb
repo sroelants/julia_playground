{
 "cells": [
  {
   "cell_type": "code",
   "execution_count": 1,
   "metadata": {
    "collapsed": false
   },
   "outputs": [],
   "source": [
    "push!(LOAD_PATH, \"./\")\n",
    "using PyPlot\n",
    "using BdgSolver"
   ]
  },
  {
   "cell_type": "markdown",
   "metadata": {},
   "source": [
    "# Chemical potential, number of occupied bands and Density of states"
   ]
  },
  {
   "cell_type": "code",
   "execution_count": 2,
   "metadata": {
    "collapsed": false
   },
   "outputs": [],
   "source": [
    "# Common values\n",
    "mat = Material(\"Sn\", 0.021931, 0.000618, 0.666666)\n",
    "h22m = 0.5\n",
    "μ2D = 0.5 * 2 * π * mat.ρ\n",
    "μ3D = 0.5 * (3 * π^2 * mat.ρ)^(2/3)\n",
    "N0_3D = 0.5*1/h22m * sqrt(μ3D/h22m)/(2.0*π^2) # factor 2\n",
    "g_3D = mat.λ / N0_3D\n",
    "\n",
    "nLzs = 500\n",
    "Lzs = linspace(10, 100, nLzs)\n",
    "shs = [Shape(1000, 1000, Lz) for Lz in Lzs]\n",
    "pars = [Parameters(mat, sh) for sh in shs]\n",
    "hams = [Hamiltonian(mat, shs[i], pars[i]) for i in 1:nLzs]\n",
    "\n",
    "μs = [p.μ for p in pars]\n",
    "νs = [p.ν for p in pars]\n",
    "Ns = [evaluate_at(hams[i].DOS, μs[i]) for i in 1:nLzs];"
   ]
  },
  {
   "cell_type": "markdown",
   "metadata": {},
   "source": [
    "## Chemical potential\n",
    "The chemical potential for a pseudo-2D system is calculated as\n",
    "$$\\mu = \\pi \\frac{\\hbar^2}{m} \\frac{L_z}{\\nu} \\left( \\rho + \\frac{\\pi}{6 L_z^3} \\nu (\\nu + \\frac{1}{2})(\\nu + 1)\\right). $$\n",
    "This needs to be solved self-consistently, since the number of occupied bands $\\nu$ depends on $\\mu$ as well:\n",
    "$$ \\nu = \\left\\lfloor \\frac{L_z}{\\pi}\\sqrt{\\frac{2m(\\mu + \\hbar\\omega_D)}{\\hbar^2}}\\right\\rfloor.$$\n",
    "\n",
    "We can wonder how this interpolates between the 2D and 3D results:\n",
    "$$\\begin{align}\n",
    "\\mu_{\\mathrm{2D}} &= \\frac{\\hbar^2}{2m} (2\\pi \\rho) \\\\\n",
    "\\mu_{\\mathrm{3D}} &= \\frac{\\hbar^2}{2m} (3\\pi^2\\rho)^{2/3}.\n",
    "\\end{align}\n",
    "$$\n",
    "\n",
    "To check this, we simply plot $\\mu$ for varying thickness:"
   ]
  },
  {
   "cell_type": "code",
   "execution_count": null,
   "metadata": {
    "collapsed": false
   },
   "outputs": [
    {
     "data": {
      "image/png": "[encoded data removed]",
      "text/plain": [
       "PyPlot.Figure(PyObject <matplotlib.figure.Figure object at 0x7f240a42fd30>)"
      ]
     },
     "metadata": {},
     "output_type": "display_data"
    }
   ],
   "source": [
    "ax = gca()\n",
    "#plot(Lzs, μs/μ2D, color=\"blue\", linewidth=1.5)\n",
    "plot(Lzs, μs/μ3D, color=\"red\", linewidth=1.5)\n",
    "show()"
   ]
  },
  {
   "cell_type": "markdown",
   "metadata": {},
   "source": [
    "Clearly, as we reach the bulk limit, the quasi-2D result converges to the 3D result: the red curve is $\\mu$ relative to $\\mu_{\\mathrm{3D}}$, and converges to 1 as the thickness grows. The blue curve is $\\mu/\\mu_\\textrm{2D}$, and clearly *does not* converge to 1 as the thickness decreases!"
   ]
  },
  {
   "cell_type": "markdown",
   "metadata": {},
   "source": [
    "## Number of occupied bands\n",
    "The number of occupied bands $\\nu$, naively, looks as if it should scale $\\sim L_z$."
   ]
  },
  {
   "cell_type": "code",
   "execution_count": null,
   "metadata": {
    "collapsed": false
   },
   "outputs": [],
   "source": [
    "ax = gca()\n",
    "plot(Lzs, νs, color=\"blue\", linewidth=1.5)\n",
    "show()"
   ]
  },
  {
   "cell_type": "markdown",
   "metadata": {},
   "source": [
    "## Density of states at the Fermi level"
   ]
  },
  {
   "cell_type": "markdown",
   "metadata": {},
   "source": [
    "The Density of states for ideal 2D and 3D systems, as given by [1] (slide 17):\n",
    "$$\n",
    "\\begin{align}\n",
    "N_\\textrm{3D}(\\xi) & = \\frac{1}{2\\pi^2} \\frac{2m}{\\hbar^2} \\sqrt{\\frac{2 m \\xi}{\\hbar^2}}\\\\\n",
    "N_\\textrm{2D}(\\xi) & = \\frac{1}{2\\pi}\\frac{2m}{\\hbar^2} \\theta(\\xi).\n",
    "\\end{align}\n",
    "$$\n",
    "\n",
    "The Density of states for a finite, ideal 2D system with sides $L$ is given by:\n",
    "$$ N_L(\\xi) = \\frac{1}{2\\pi}\\frac{2m}{\\hbar^2} L^2.$$\n",
    "Usually, we simply use the density of states per unit volume, by dividing out the $L^2$:\n",
    "$$N_\\mathrm{2D}(\\xi) = \\frac{1}{2\\pi}\\frac{2m}{\\hbar^2}.$$\n",
    "\n",
    "In the case of a quasi-2D sample, however, dividing by the volume of the crystal instead yields\n",
    "$$N_\\mathrm{q2D}(\\xi) = \\frac{1}{2\\pi L_z}\\frac{2m}{\\hbar^2}.$$\n",
    "\n",
    "This is necessary, because this is the $L_z$ dependency that yields the correct 3D result in the large\n",
    "$L_z$ limit.\n",
    "\n",
    "\n",
    "[1]: http://users.ece.gatech.edu/~alan/ECE6451/Lectures/StudentLectures/King_Notes_Density_of_States_2D1D0D.pdf"
   ]
  },
  {
   "cell_type": "code",
   "execution_count": null,
   "metadata": {
    "collapsed": false
   },
   "outputs": [],
   "source": [
    "ax = gca()\n",
    "plot(Lzs, Ns/N0_3D, color=\"blue\", linewidth=1.5)\n",
    "#ax[:set_ylim]([0.00, 1.1]);\n",
    "show()"
   ]
  },
  {
   "cell_type": "markdown",
   "metadata": {},
   "source": [
    "## Dimensionful electron-phonon coupling $g$\n",
    "The electron-phonon coupling $g$ is defined as $g = \\lambda/N(\\mu)$. The problem is, of course, that it's not quite clear what value for $N(\\mu)$ to use here. If we take the exact value, then $g$ will inherit the same oscillatory behaviour from $N$ (though inverted). It should remain fairly bounded, so it shouldn't be too much of a problem, though..."
   ]
  },
  {
   "cell_type": "code",
   "execution_count": null,
   "metadata": {
    "collapsed": false
   },
   "outputs": [],
   "source": [
    "ax = gca()\n",
    "plot(Lzs, mat.λ./Ns/g_3D, color=\"blue\", linewidth=1.5)\n",
    "#ax[:set_ylim]([0.00, 1.1]);\n",
    "show()"
   ]
  },
  {
   "cell_type": "markdown",
   "metadata": {},
   "source": [
    "# Integration"
   ]
  },
  {
   "cell_type": "markdown",
   "metadata": {
    "collapsed": true
   },
   "source": [
    "Clearly, integrating like this won't be compatible with being able to apply corrections as convolutions to the thermal weight or DOS. I simply can't do \"symbolic\" integrations for all the corrections and get a function as end result. I'll have to discretize at least part of it, on which I can apply the corrections. I think it's cleanest if I just apply *all* corrections to the DOS:\n",
    "\n",
    "$$M_{ij} = \\Phi_{ij} \\int_{DW} d\\xi\\, N_i(\\xi) \\int d\\Xi\\, F(\\xi - \\Xi, \\Gamma_\\xi) \\frac{ \\textrm{tanh} \\frac{\\beta_c \\Xi}{2}}{\\Xi}$$\n",
    "\n",
    "If we put in the Debye-window cutoff manually as a characteristic function, $\\chi_{DW}(\\xi)$, both integrations become completely equivalent (at least in principle).\n",
    "\n",
    "$$M_{ij} = \\Phi_{ij} \\int d\\xi\\, \\chi_{DW}(\\xi)N_i(\\xi) \\int d\\Xi\\, F(\\xi - \\Xi, \\Gamma_\\xi) \\frac{ \\textrm{tanh} \\frac{\\beta_c \\Xi}{2}}{\\Xi}.$$\n",
    "\n",
    "Reversing the integrations:\n",
    "$$M_{ij} = \\Phi_{ij} \\int d\\Xi\\, \\frac{ \\textrm{tanh} \\frac{\\beta_c \\Xi}{2}}{\\Xi}  \\left\\{\\int d\\xi\\, F(\\xi - \\Xi, \\Gamma_\\xi) \\chi_{DW}(\\xi)N_i(\\xi)\\right\\}.$$\n",
    "\n",
    "This way, I can repeatedly keep applying corrections to the DOS. I think. Right?\n",
    "\n",
    "\n",
    "Note that, if I choose to discretize the DOS, and apply all corrections at the DOS level, I will essentially be multiplying the number of operations (and memory usage) by a factor $\\nu$... "
   ]
  },
  {
   "cell_type": "markdown",
   "metadata": {},
   "source": [
    "# Thermal determinant"
   ]
  },
  {
   "cell_type": "markdown",
   "metadata": {},
   "source": [
    "The superconducting and non-superconducting regimes are demarcated by the condition\n",
    "\n",
    "$$ \\det\\left(M_{ij} - \\delta_{ij}\\right) = 0, $$\n",
    "\n",
    "where $M_{ij}$ is given by\n",
    "\n",
    "$$M_{ij} = \\frac{g}{4} \\frac{m}{\\pi \\hbar^2} \\Phi_{ij}\n",
    "      \\int_{DW}d\\xi\\, \\theta(\\xi - \\epsilon_i) \\frac{\\tanh\\left(\\frac{\\beta_c \\xi}{2}\\right)}{\\xi}.$$\n",
    "      \n",
    "Seeing as how, for a 2D system, the density of states can be written as\n",
    "$$N_i(\\xi) = \\frac{m}{\\pi \\hbar^2} \\theta(\\xi - \\epsilon_i), $$\n",
    "we can rewrite this as\n",
    "$$M_{ij} = \\frac{g}{4} \\Phi_{ij}\n",
    "      \\int_{DW}d\\xi\\, N_i(\\xi) \\frac{\\tanh\\left(\\frac{\\beta_c \\xi}{2}\\right)}{\\xi}.$$"
   ]
  },
  {
   "cell_type": "code",
   "execution_count": null,
   "metadata": {
    "collapsed": false
   },
   "outputs": [],
   "source": [
    "sh = Shape(1000, 1000, 10)\n",
    "pars = Parameters(mat, sh)\n",
    "sys = System(mat, sh, pars)\n",
    "H = Hamiltonian(mat, sh, pars);\n",
    "BdgSolver.print_parameters(sys)\n",
    "\n",
    "### For comparison with the Python code\n",
    "EF_3D = 0.5 * (3 * π^2 * mat.ρ)^(2/3)\n",
    "N0_3D = sqrt(EF_3D*2)/(2.0*π^2) # factor 2\n",
    "EF_2D = 0.5 * 2 * π*mat.ρ\n",
    "N0_2D = 1/(0.5 * 4 * π) / sh.Lz\n",
    "N0 = 1/(0.5 * 4 * π) * pars.ν/sh.Lz\n",
    "bad_g = 0.18/N0_3D\n",
    "\n",
    "println(\"EF_3D = $EF_3D\")\n",
    "println(\"N0_3D = $N0_3D\")\n",
    "println(\"EF_2D = $EF_2D\")\n",
    "println(\"N0_2D = $N0_2D\")\n",
    "println(\"N0 = $N0\")\n",
    "println(\"g (crappy) = $bad_g\")"
   ]
  },
  {
   "cell_type": "code",
   "execution_count": null,
   "metadata": {
    "code_folding": [],
    "collapsed": false,
    "scrolled": false
   },
   "outputs": [],
   "source": [
    "Ts, Ds = BdgSolver.get_Tc(sys)\n",
    "ax=gca()\n",
    "plot(Ts, Ds, color=\"blue\", linewidth=2.0, linestyle=\"-\")\n",
    "show()\n",
    "#fig = figure(\"Thermal determinant\",figsize=(4, 2.5))\n",
    "#plt[:style][:use](\"seaborn-pastel\")"
   ]
  },
  {
   "cell_type": "markdown",
   "metadata": {},
   "source": [
    "The biggest problem I have with this is: my value for $g = \\lambda/N(\\mu)$ differs immensely from the one I defined in the Python code, $g_\\mathrm{Py} = 0.18/N_\\mathrm{th}(\\mu)$. The Python code defines $g$ through some experimental value for $gN(\\mu)$, and divides by the theoretical value $N_\\mathrm{th}(\\mu)$.\n",
    "\n",
    "$g$ differs by a factor of about $2\\pi$, while $N$ differs by a factor of 10, precisely. Which is funny..."
   ]
  },
  {
   "cell_type": "markdown",
   "metadata": {
    "collapsed": true
   },
   "source": [
    "# TODO:\n",
    "* The total matrix in the thermal part (excluding the $\\delta_{ij}$) is orders of magnitude too small. The magnitute about a factor of 4500, the temperature-scale is also off by a HUGE factor (100000 or so). I need to fix these before the determinant of $M_{ij} - \\delta_{ij}$ can differ significantly from 1."
   ]
  }
 ],
 "metadata": {
  "hide_input": false,
  "kernelspec": {
   "display_name": "Julia 0.4.3",
   "language": "julia",
   "name": "julia-0.4"
  },
  "language_info": {
   "file_extension": ".jl",
   "mimetype": "application/julia",
   "name": "julia",
   "version": "0.4.5"
  }
 },
 "nbformat": 4,
 "nbformat_minor": 0
}

{
 "cells": [
  {
   "cell_type": "code",
   "execution_count": 1,
   "metadata": {
    "collapsed": false
   },
   "outputs": [
    {
     "ename": "LoadError",
     "evalue": "LoadError: LoadError: syntax: invalid assignment location\nwhile loading /home/sam/Code/Julia/BdG/BdgSolver.jl, in expression starting on line 68\nwhile loading In[1], in expression starting on line 2",
     "output_type": "error",
     "traceback": [
      "LoadError: LoadError: syntax: invalid assignment location\nwhile loading /home/sam/Code/Julia/BdG/BdgSolver.jl, in expression starting on line 68\nwhile loading In[1], in expression starting on line 2",
      ""
     ]
    }
   ],
   "source": [
    "push!(LOAD_PATH, \"./\")\n",
    "using BdgSolver"
   ]
  },
  {
   "cell_type": "code",
   "execution_count": 4,
   "metadata": {
    "collapsed": false
   },
   "outputs": [
    {
     "ename": "LoadError",
     "evalue": "LoadError: UndefVarError: chemical_potential not defined\nwhile loading In[4], in expression starting on line 3",
     "output_type": "error",
     "traceback": [
      "LoadError: UndefVarError: chemical_potential not defined\nwhile loading In[4], in expression starting on line 3",
      "",
      " in call at /home/sam/Code/Julia/BdG/BdgSolver.jl:38"
     ]
    }
   ],
   "source": [
    "sh = Shape(10, 10, 10)\n",
    "mat = Material(\"Sn\", 1.0, 1.0, 1.0)\n",
    "pars = Parameters(mat, sh)"
   ]
  },
  {
   "cell_type": "code",
   "execution_count": 2,
   "metadata": {
    "collapsed": false
   },
   "outputs": [
    {
     "data": {
      "text/plain": [
       "π = 3.1415926535897..."
      ]
     },
     "execution_count": 2,
     "metadata": {},
     "output_type": "execute_result"
    }
   ],
   "source": [
    "pi"
   ]
  },
  {
   "cell_type": "code",
   "execution_count": null,
   "metadata": {
    "collapsed": true
   },
   "outputs": [],
   "source": []
  }
 ],
 "metadata": {
  "kernelspec": {
   "display_name": "Julia 0.4.3",
   "language": "julia",
   "name": "julia-0.4"
  },
  "language_info": {
   "file_extension": ".jl",
   "mimetype": "application/julia",
   "name": "julia",
   "version": "0.4.3"
  }
 },
 "nbformat": 4,
 "nbformat_minor": 0
}

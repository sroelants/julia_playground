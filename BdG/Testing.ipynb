{
 "cells": [
  {
   "cell_type": "code",
   "execution_count": 80,
   "metadata": {
    "collapsed": false
   },
   "outputs": [],
   "source": [
    "push!(LOAD_PATH, \"./\")\n",
    "using BdgSolver"
   ]
  },
  {
   "cell_type": "code",
   "execution_count": 81,
   "metadata": {
    "collapsed": false
   },
   "outputs": [],
   "source": [
    "workspace()\n",
    "reload(\"BdgSolver\")\n",
    "using BdgSolver"
   ]
  },
  {
   "cell_type": "code",
   "execution_count": 82,
   "metadata": {
    "collapsed": false
   },
   "outputs": [
    {
     "data": {
      "text/plain": [
       "BdgSolver.Hamiltonian(DOS)"
      ]
     },
     "execution_count": 82,
     "metadata": {},
     "output_type": "execute_result"
    }
   ],
   "source": [
    "sh = Shape(10, 10, 10)\n",
    "mat = Material(\"Sn\", 1.0, 1.0, 1.0)\n",
    "pars = Parameters(mat, sh)\n",
    "sys = System(mat, sh, pars)\n",
    "H = Hamiltonian(sh)"
   ]
  },
  {
   "cell_type": "code",
   "execution_count": 84,
   "metadata": {
    "collapsed": false
   },
   "outputs": [
    {
     "data": {
      "text/plain": [
       "1x11 Array{Float64,2}:\n",
       " 9.9  9.604  9.11  8.42  7.532  6.446  5.164  3.684  2.006  0.132  0.0"
      ]
     },
     "execution_count": 84,
     "metadata": {},
     "output_type": "execute_result"
    }
   ],
   "source": [
    "i = collect(0:10)\n",
    "F(x) = H.DOS(i, x)\n",
    "\n",
    "BdgSolver.integrate(F, (0,5))"
   ]
  },
  {
   "cell_type": "code",
   "execution_count": null,
   "metadata": {
    "collapsed": true
   },
   "outputs": [],
   "source": []
  }
 ],
 "metadata": {
  "kernelspec": {
   "display_name": "Julia 0.4.3",
   "language": "julia",
   "name": "julia-0.4"
  },
  "language_info": {
   "file_extension": ".jl",
   "mimetype": "application/julia",
   "name": "julia",
   "version": "0.4.3"
  }
 },
 "nbformat": 4,
 "nbformat_minor": 0
}

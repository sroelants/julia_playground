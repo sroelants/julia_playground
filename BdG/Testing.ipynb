{
 "cells": [
  {
   "cell_type": "code",
   "execution_count": 57,
   "metadata": {
    "collapsed": false
   },
   "outputs": [],
   "source": [
    "push!(LOAD_PATH, \"./\")\n",
    "using BdgSolver"
   ]
  },
  {
   "cell_type": "code",
   "execution_count": 58,
   "metadata": {
    "collapsed": false
   },
   "outputs": [],
   "source": [
    "workspace()\n",
    "reload(\"BdgSolver\")\n",
    "using BdgSolver"
   ]
  },
  {
   "cell_type": "code",
   "execution_count": 59,
   "metadata": {
    "collapsed": false
   },
   "outputs": [
    {
     "data": {
      "text/plain": [
       "1.0"
      ]
     },
     "execution_count": 59,
     "metadata": {},
     "output_type": "execute_result"
    }
   ],
   "source": [
    "sh = Shape(10, 10, 10)\n",
    "mat = Material(\"Sn\", 1.0, 1.0, 1.0)\n",
    "pars = Parameters(mat, sh)\n",
    "sys = System(mat, sh, pars)\n",
    "H = Hamiltonian(sh)"
   ]
  },
  {
   "cell_type": "code",
   "execution_count": 73,
   "metadata": {
    "collapsed": false
   },
   "outputs": [
    {
     "data": {
      "text/plain": [
       "61.998000000000005"
      ]
     },
     "execution_count": 73,
     "metadata": {},
     "output_type": "execute_result"
    }
   ],
   "source": [
    "i = collect(0:10)\n",
    "\n",
    "F(x) = H.DOS(i, x)\n",
    "#println(sum(F([1, 2, 3]), 1))\n",
    "BdgSolver.integrate(F, (0,5))"
   ]
  }
 ],
 "metadata": {
  "kernelspec": {
   "display_name": "Julia 0.4.3",
   "language": "julia",
   "name": "julia-0.4"
  },
  "language_info": {
   "file_extension": ".jl",
   "mimetype": "application/julia",
   "name": "julia",
   "version": "0.4.3"
  }
 },
 "nbformat": 4,
 "nbformat_minor": 0
}

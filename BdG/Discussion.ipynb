{
 "cells": [
  {
   "cell_type": "code",
   "execution_count": 1,
   "metadata": {
    "collapsed": false
   },
   "outputs": [],
   "source": [
    "push!(LOAD_PATH, \"./\")\n",
    "using PyPlot\n",
    "using BdgSolver"
   ]
  },
  {
   "cell_type": "code",
   "execution_count": 2,
   "metadata": {
    "collapsed": false
   },
   "outputs": [
    {
     "name": "stdout",
     "output_type": "stream",
     "text": [
      "--------------------------------------------------------------------------------\n",
      "--- Shape dimensions -----------------------------------------------------------\n",
      "--------------------------------------------------------------------------------\n",
      "Lx  =   1000.0 Bohr,   Ly  =   1000.0 Bohr,   Lz = 10.0 Bohr\n",
      "--------------------------------------------------------------------------------\n",
      "--------------------------------------------------------------------------------\n",
      "--- Material properties --------------------------------------------------------\n",
      "--------------------------------------------------------------------------------\n",
      "Carrier density:            ρ   = 148.0     Bohr^{-1},\n",
      "Debye energy:               ħω  = 0.000618    Ry,\n",
      "Electron phonon coupling:   λ   = 0.666\n",
      "--------------------------------------------------------------------------------\n",
      "--------------------------------------------------------------------------------\n",
      "--- Derived parameters  --------------------------------------------------------\n",
      "--------------------------------------------------------------------------------\n",
      "Chemical potential          μ       = 135.18485055068447   Ry,\n",
      "Maximum band index          ν       = 52,\n",
      "Maximum wavevector          kmax    = 16.436956683441956    Bohr^{-1}\n",
      "--------------------------------------------------------------------------------\n"
     ]
    }
   ],
   "source": [
    "sh = Shape(1000, 1000, 10)\n",
    "mat = Material(\"Sn\", 148.0, 0.000618, 0.666)\n",
    "pars = Parameters(mat, sh)\n",
    "sys = System(mat, sh, pars)\n",
    "H = Hamiltonian(mat, sh, pars);\n",
    "BdgSolver.print_parameters(sys)"
   ]
  },
  {
   "cell_type": "markdown",
   "metadata": {},
   "source": [
    "## Integration"
   ]
  },
  {
   "cell_type": "markdown",
   "metadata": {
    "collapsed": true
   },
   "source": [
    "Clearly, integrating like this won't be compatible with being able to apply corrections as convolutions to the thermal weight or DOS. I simply can't do \"symbolic\" integrations for all the corrections and get a function as end result. I'll have to discretize at least part of it, on which I can apply the corrections. I think it's cleanest if I just apply *all* corrections to the DOS:\n",
    "\n",
    "$$M_{ij} = \\Phi_{ij} \\int_{DW} d\\xi\\, N_i(\\xi) \\int d\\Xi\\, F(\\xi - \\Xi, \\Gamma_\\xi) \\frac{ \\textrm{tanh} \\frac{\\beta_c \\Xi}{2}}{\\Xi}$$\n",
    "\n",
    "If we put in the Debye-window cutoff manually as a characteristic function, $\\chi_{DW}(\\xi)$, both integrations become completely equivalent (at least in principle).\n",
    "\n",
    "$$M_{ij} = \\Phi_{ij} \\int d\\xi\\, \\chi_{DW}(\\xi)N_i(\\xi) \\int d\\Xi\\, F(\\xi - \\Xi, \\Gamma_\\xi) \\frac{ \\textrm{tanh} \\frac{\\beta_c \\Xi}{2}}{\\Xi}.$$\n",
    "\n",
    "Reversing the integrations:\n",
    "$$M_{ij} = \\Phi_{ij} \\int d\\Xi\\, \\frac{ \\textrm{tanh} \\frac{\\beta_c \\Xi}{2}}{\\Xi}  \\left\\{\\int d\\xi\\, F(\\xi - \\Xi, \\Gamma_\\xi) \\chi_{DW}(\\xi)N_i(\\xi)\\right\\}.$$\n",
    "\n",
    "This way, I can repeatedly keep applying corrections to the DOS. I think. Right?\n",
    "\n",
    "\n",
    "Note that, if I choose to discretize the DOS, and apply all corrections at the DOS level, I will essentially be multiplying the number of operations (and memory usage) by a factor $\\nu$... "
   ]
  },
  {
   "cell_type": "markdown",
   "metadata": {},
   "source": [
    "## Thermal determinant"
   ]
  },
  {
   "cell_type": "markdown",
   "metadata": {},
   "source": [
    "The superconducting and non-superconducting regimes are demarcated by the condition\n",
    "\n",
    "$$ \\det\\left(M_{ij} - \\delta_{ij}\\right) = 0, $$\n",
    "\n",
    "where $M_{ij}$ is given by\n",
    "\n",
    "$$M_{ij} = \\frac{g}{4} \\frac{1}{2\\pi} \\frac{2m}{\\hbar^2} \\Phi_{ij}\n",
    "      \\int_{DW}d\\xi\\, \\theta(\\xi - \\epsilon_i) \\frac{\\tanh\\left(\\frac{\\beta_c \\xi}{2}\\right)}{\\xi}.$$\n",
    "      \n",
    "Seeing as how, for a 2D system, the density of states can be written as\n",
    "$$N_i(\\xi) = \\frac{4\\pi m}{\\hbar^2} \\theta(\\xi - \\epsilon_i), $$\n",
    "we can rewrite this as\n",
    "$$M_{ij} = \\frac{g}{16\\pi^2} \\Phi_{ij}\n",
    "      \\int_{DW}d\\xi\\, N_i(\\xi) \\frac{\\tanh\\left(\\frac{\\beta_c \\xi}{2}\\right)}{\\xi}.$$\n",
    "      \n",
    "**Ugh**, depending on who you ask, the DOS could also be \n",
    "$$N_i(\\xi) = \\frac{m}{\\pi \\hbar^2} \\theta(\\xi - \\epsilon_i), $$\n",
    "(that is, the previously stated one, divided by $4\\pi^2$.\n",
    "\n",
    "I'd better compare with the old Python code to make sure I don't miss any factors...\n"
   ]
  },
  {
   "cell_type": "code",
   "execution_count": 3,
   "metadata": {
    "collapsed": false,
    "scrolled": true
   },
   "outputs": [
    {
     "name": "stdout",
     "output_type": "stream",
     "text": [
      "  "
     ]
    },
    {
     "data": {
      "image/png": "[encoded data removed]",
      "text/plain": [
       "PyPlot.Figure(PyObject <matplotlib.figure.Figure object at 0x8a5c68ac>)"
      ]
     },
     "metadata": {},
     "output_type": "display_data"
    },
    {
     "name": "stdout",
     "output_type": "stream",
     "text": [
      "1.074842 seconds (914.72 k allocations: 28.329 MB, 2.29% gc time)\n"
     ]
    }
   ],
   "source": [
    "@time βs, Ds = BdgSolver.get_Tc(sys)\n",
    "fig = figure(\"Thermal determinant\",figsize=(8,5))\n",
    "title(\"det(M(T))\")\n",
    "plot(βs, Ds, color=\"blue\", linewidth=2.0, linestyle=\"--\")\n",
    "show()"
   ]
  },
  {
   "cell_type": "markdown",
   "metadata": {},
   "source": []
  },
  {
   "cell_type": "markdown",
   "metadata": {
    "collapsed": true
   },
   "source": [
    "# TODO:\n",
    "* Make all the parameters realistic.\n",
    "* Add missing factors everywhere (I'm thinking, in front of the thermal integral!)\n",
    "* Add a - \\delta_{ij} to the determinant\n",
    "* Calculate $g$, add it to thermal integral\n",
    "* Add prefactor to DOS\n"
   ]
  },
  {
   "cell_type": "code",
   "execution_count": null,
   "metadata": {
    "collapsed": true
   },
   "outputs": [],
   "source": []
  }
 ],
 "metadata": {
  "kernelspec": {
   "display_name": "Julia 0.4.3",
   "language": "julia",
   "name": "julia-0.4"
  },
  "language_info": {
   "file_extension": ".jl",
   "mimetype": "application/julia",
   "name": "julia",
   "version": "0.4.3"
  }
 },
 "nbformat": 4,
 "nbformat_minor": 0
}

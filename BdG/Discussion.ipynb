{
 "cells": [
  {
   "cell_type": "code",
   "execution_count": 15,
   "metadata": {
    "collapsed": false
   },
   "outputs": [],
   "source": [
    "push!(LOAD_PATH, \"./\")\n",
    "using PyPlot\n",
    "using BdgSolver"
   ]
  },
  {
   "cell_type": "code",
   "execution_count": 16,
   "metadata": {
    "collapsed": false
   },
   "outputs": [
    {
     "name": "stdout",
     "output_type": "stream",
     "text": [
      "--------------------------------------------------------------------------------\n",
      "--- Shape dimensions -----------------------------------------------------------\n",
      "--------------------------------------------------------------------------------\n",
      "--- Lx  =   1000.0 Bohr,   Ly  =   1000.0 Bohr,   Lz = 10.0 Bohr\n",
      "--------------------------------------------------------------------------------\n",
      "--------------------------------------------------------------------------------\n",
      "--- Material properties --------------------------------------------------------\n",
      "--------------------------------------------------------------------------------\n",
      "--- Carrier density:            ρ   = 148.0         Bohr^{-1},\n",
      "--- Debye energy:               ħω  = 0.000618        Ry,\n",
      "--- Electron phonon coupling:   λ   = 0.666\n",
      "--------------------------------------------------------------------------------\n",
      "--------------------------------------------------------------------------------\n",
      "--- Derived parameters  --------------------------------------------------------\n",
      "--------------------------------------------------------------------------------\n",
      "--- Chemical potential          μ       = 135.18485055068447       Ry,\n",
      "--- Maximum band index          ν       = 52,\n",
      "--- Maximum wavevector          kmax    = 16.436956683441956    Bohr^{-1}\n",
      "--------------------------------------------------------------------------------\n"
     ]
    }
   ],
   "source": [
    "sh = Shape(1000, 1000, 10)\n",
    "mat = Material(\"Sn\", 148.0, 0.000618, 0.666)\n",
    "pars = Parameters(mat, sh)\n",
    "sys = System(mat, sh, pars)\n",
    "H = Hamiltonian(mat, sh, pars);\n",
    "BdgSolver.print_parameters(sys)"
   ]
  },
  {
   "cell_type": "markdown",
   "metadata": {},
   "source": [
    "## Integration"
   ]
  },
  {
   "cell_type": "markdown",
   "metadata": {
    "collapsed": true
   },
   "source": [
    "Clearly, integrating like this won't be compatible with being able to apply corrections as convolutions to the thermal weight or DOS. I simply can't do \"symbolic\" integrations for all the corrections and get a function as end result. I'll have to discretize at least part of it, on which I can apply the corrections. I think it's cleanest if I just apply *all* corrections to the DOS:\n",
    "\n",
    "$$M_{ij} = \\Phi_{ij} \\int_{DW} d\\xi\\, N_i(\\xi) \\int d\\Xi\\, F(\\xi - \\Xi, \\Gamma_\\xi) \\frac{ \\textrm{tanh} \\frac{\\beta_c \\Xi}{2}}{\\Xi}$$\n",
    "\n",
    "If we put in the Debye-window cutoff manually as a characteristic function, $\\chi_{DW}(\\xi)$, both integrations become completely equivalent (at least in principle).\n",
    "\n",
    "$$M_{ij} = \\Phi_{ij} \\int d\\xi\\, \\chi_{DW}(\\xi)N_i(\\xi) \\int d\\Xi\\, F(\\xi - \\Xi, \\Gamma_\\xi) \\frac{ \\textrm{tanh} \\frac{\\beta_c \\Xi}{2}}{\\Xi}.$$\n",
    "\n",
    "Reversing the integrations:\n",
    "$$M_{ij} = \\Phi_{ij} \\int d\\Xi\\, \\frac{ \\textrm{tanh} \\frac{\\beta_c \\Xi}{2}}{\\Xi}  \\left\\{\\int d\\xi\\, F(\\xi - \\Xi, \\Gamma_\\xi) \\chi_{DW}(\\xi)N_i(\\xi)\\right\\}.$$\n",
    "\n",
    "This way, I can repeatedly keep applying corrections to the DOS. I think. Right?\n",
    "\n",
    "\n",
    "Note that, if I choose to discretize the DOS, and apply all corrections at the DOS level, I will essentially be multiplying the number of operations (and memory usage) by a factor $\\nu$... "
   ]
  },
  {
   "cell_type": "markdown",
   "metadata": {},
   "source": [
    "## Thermal determinant"
   ]
  },
  {
   "cell_type": "markdown",
   "metadata": {},
   "source": [
    "The superconducting and non-superconducting regimes are demarcated by the condition\n",
    "\n",
    "$$ \\det\\left(M_{ij} - \\delta_{ij}\\right) = 0, $$\n",
    "\n",
    "where $M_{ij}$ is given by\n",
    "\n",
    "$$M_{ij} = \\frac{g}{4} \\frac{1}{2\\pi} \\frac{2m}{\\hbar^2} \\Phi_{ij}\n",
    "      \\int_{DW}d\\xi\\, \\theta(\\xi - \\epsilon_i) \\frac{\\tanh\\left(\\frac{\\beta_c \\xi}{2}\\right)}{\\xi}.$$\n",
    "      \n",
    "Seeing as how, for a 2D system, the density of states can be written as\n",
    "$$N_i(\\xi) = \\frac{4\\pi m}{\\hbar^2} \\theta(\\xi - \\epsilon_i), $$\n",
    "we can rewrite this as\n",
    "$$M_{ij} = \\frac{g}{16\\pi^2} \\Phi_{ij}\n",
    "      \\int_{DW}d\\xi\\, N_i(\\xi) \\frac{\\tanh\\left(\\frac{\\beta_c \\xi}{2}\\right)}{\\xi}.$$\n",
    "      \n",
    "**Ugh**, depending on who you ask, the DOS could also be \n",
    "$$N_i(\\xi) = \\frac{m}{\\pi \\hbar^2} \\theta(\\xi - \\epsilon_i), $$\n",
    "(that is, the previously stated one, divided by $4\\pi^2$.\n",
    "\n",
    "I'd better compare with the old Python code to make sure I don't miss any factors...\n"
   ]
  },
  {
   "cell_type": "code",
   "execution_count": 52,
   "metadata": {
    "code_folding": [],
    "collapsed": false,
    "scrolled": false
   },
   "outputs": [
    {
     "ename": "LoadError",
     "evalue": "LoadError: PyError (:PyObject_Call) <type 'exceptions.TypeError'>\nTypeError('text() takes at least 4 arguments (1 given)',)\n\nwhile loading In[52], in expression starting on line 7",
     "output_type": "error",
     "traceback": [
      "LoadError: PyError (:PyObject_Call) <type 'exceptions.TypeError'>\nTypeError('text() takes at least 4 arguments (1 given)',)\n\nwhile loading In[52], in expression starting on line 7",
      "",
      " in getindex at /home/sam/.julia/v0.4/PyCall/src/PyCall.jl:239",
      " in pysequence_query at /home/sam/.julia/v0.4/PyCall/src/conversions.jl:757",
      " [inlined code] from /home/sam/.julia/v0.4/PyCall/src/conversions.jl:773",
      " in pytype_query at /home/sam/.julia/v0.4/PyCall/src/conversions.jl:795",
      " in convert at /home/sam/.julia/v0.4/PyCall/src/conversions.jl:822",
      " in pycall at /home/sam/.julia/v0.4/PyCall/src/PyCall.jl:380",
      " in call at /home/sam/.julia/v0.4/PyCall/src/PyCall.jl:388",
      " in close_queued_figs at /home/sam/.julia/v0.4/PyPlot/src/PyPlot.jl:401"
     ]
    }
   ],
   "source": [
    "#@time βs, Ds = BdgSolver.get_Tc(sys)\n",
    "#title(\"det(M(T))\")\n",
    "#plot(βs, Ds, color=\"blue\", linewidth=2.0, linestyle=\"--\")\n",
    "fig = figure(\"Thermal determinant\",figsize=(4, 2.5))\n",
    "title(L\"Plot of $\\Gamma_3(x)$\", fontsize=11)\n",
    "ax = gca()\n",
    "ax[:text](size=2)\n",
    "\n",
    "x = collect(linspace(0, 2*π))\n",
    "y = sin(x)\n",
    "plot(x, y)\n",
    "#style.use('ggplot')\n",
    "show()"
   ]
  },
  {
   "cell_type": "markdown",
   "metadata": {
    "collapsed": true
   },
   "source": [
    "# TODO:\n",
    "* Make all the parameters realistic.\n",
    "* Add missing factors everywhere (I'm thinking, in front of the thermal integral!)\n",
    "* Add a - \\delta_{ij} to the determinant\n",
    "* Calculate $g$, add it to thermal integral\n",
    "* Add prefactor to DOS\n"
   ]
  },
  {
   "cell_type": "code",
   "execution_count": null,
   "metadata": {
    "collapsed": true
   },
   "outputs": [],
   "source": []
  }
 ],
 "metadata": {
  "hide_input": false,
  "kernelspec": {
   "display_name": "Julia 0.4.3",
   "language": "julia",
   "name": "julia-0.4"
  },
  "language_info": {
   "file_extension": ".jl",
   "mimetype": "application/julia",
   "name": "julia",
   "version": "0.4.3"
  }
 },
 "nbformat": 4,
 "nbformat_minor": 0
}

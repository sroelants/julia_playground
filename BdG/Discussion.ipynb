{
 "cells": [
  {
   "cell_type": "code",
   "execution_count": 9,
   "metadata": {
    "collapsed": false
   },
   "outputs": [],
   "source": [
    "push!(LOAD_PATH, \"./\")\n",
    "using PyPlot\n",
    "using BdgSolver"
   ]
  },
  {
   "cell_type": "code",
   "execution_count": 2,
   "metadata": {
    "collapsed": false
   },
   "outputs": [
    {
     "name": "stdout",
     "output_type": "stream",
     "text": [
      "--------------------------------------------------------------------------------\n",
      "--- Shape dimensions -----------------------------------------------------------\n",
      "--------------------------------------------------------------------------------\n",
      "--- Lx  =   1000.0 Bohr,   Ly  =   1000.0 Bohr,   Lz = 10.0 Bohr\n",
      "--------------------------------------------------------------------------------\n",
      "--------------------------------------------------------------------------------\n",
      "--- Material properties --------------------------------------------------------\n",
      "--------------------------------------------------------------------------------\n",
      "--- Carrier density:            ρ   = 0.021931         Bohr^{-1},\n",
      "--- Debye energy:               ħω  = 0.000618        Ha,\n",
      "--- Electron phonon coupling:   λ   = 0.666666\n",
      "--------------------------------------------------------------------------------\n",
      "--------------------------------------------------------------------------------\n",
      "--- Derived parameters  --------------------------------------------------------\n",
      "--------------------------------------------------------------------------------\n",
      "--- Chemical potential          μ       = 0.4599516643116775       Ha,\n",
      "--- Maximum band index          ν       = 3,\n",
      "--- Maximum wavevector          kmax    = 0.8507333545838954    Bohr^{-1}\n",
      "--------------------------------------------------------------------------------\n",
      "EF_3D = 0.3749352683595098\n",
      "N0_3D = 0.04386957266508324\n",
      "EF_2D = 0.06889826848587775\n",
      "N0_2D = 0.015915494309189534\n",
      "N0 = 0.0477464829275686\n",
      "g (crappy) = 4.103071652285912\n"
     ]
    }
   ],
   "source": [
    "sh = Shape(1000, 1000, 10)\n",
    "mat = Material(\"Sn\", 0.021931, 0.000618, 0.666666)\n",
    "pars = Parameters(mat, sh)\n",
    "sys = System(mat, sh, pars)\n",
    "H = Hamiltonian(mat, sh, pars);\n",
    "BdgSolver.print_parameters(sys)\n",
    "\n",
    "### For comparison with the Python code\n",
    "EF_3D = 0.5 * (3 * π^2 * mat.ρ)^(2/3)\n",
    "N0_3D = sqrt(EF_3D*2)/(2.0*π^2) # factor 2\n",
    "EF_2D = 0.5 * 2 * π*mat.ρ\n",
    "N0_2D = 1/(0.5 * 4 * π) / sh.Lz\n",
    "N0 = 1/(0.5 * 4 * π) * pars.ν/sh.Lz\n",
    "bad_g = 0.18/N0_3D\n",
    "\n",
    "println(\"EF_3D = $EF_3D\")\n",
    "println(\"N0_3D = $N0_3D\")\n",
    "println(\"EF_2D = $EF_2D\")\n",
    "println(\"N0_2D = $N0_2D\")\n",
    "println(\"N0 = $N0\")\n",
    "println(\"g (crappy) = $bad_g\")\n",
    "\n",
    "\n",
    "\n"
   ]
  },
  {
   "cell_type": "markdown",
   "metadata": {},
   "source": [
    "## Integration"
   ]
  },
  {
   "cell_type": "markdown",
   "metadata": {
    "collapsed": true
   },
   "source": [
    "Clearly, integrating like this won't be compatible with being able to apply corrections as convolutions to the thermal weight or DOS. I simply can't do \"symbolic\" integrations for all the corrections and get a function as end result. I'll have to discretize at least part of it, on which I can apply the corrections. I think it's cleanest if I just apply *all* corrections to the DOS:\n",
    "\n",
    "$$M_{ij} = \\Phi_{ij} \\int_{DW} d\\xi\\, N_i(\\xi) \\int d\\Xi\\, F(\\xi - \\Xi, \\Gamma_\\xi) \\frac{ \\textrm{tanh} \\frac{\\beta_c \\Xi}{2}}{\\Xi}$$\n",
    "\n",
    "If we put in the Debye-window cutoff manually as a characteristic function, $\\chi_{DW}(\\xi)$, both integrations become completely equivalent (at least in principle).\n",
    "\n",
    "$$M_{ij} = \\Phi_{ij} \\int d\\xi\\, \\chi_{DW}(\\xi)N_i(\\xi) \\int d\\Xi\\, F(\\xi - \\Xi, \\Gamma_\\xi) \\frac{ \\textrm{tanh} \\frac{\\beta_c \\Xi}{2}}{\\Xi}.$$\n",
    "\n",
    "Reversing the integrations:\n",
    "$$M_{ij} = \\Phi_{ij} \\int d\\Xi\\, \\frac{ \\textrm{tanh} \\frac{\\beta_c \\Xi}{2}}{\\Xi}  \\left\\{\\int d\\xi\\, F(\\xi - \\Xi, \\Gamma_\\xi) \\chi_{DW}(\\xi)N_i(\\xi)\\right\\}.$$\n",
    "\n",
    "This way, I can repeatedly keep applying corrections to the DOS. I think. Right?\n",
    "\n",
    "\n",
    "Note that, if I choose to discretize the DOS, and apply all corrections at the DOS level, I will essentially be multiplying the number of operations (and memory usage) by a factor $\\nu$... "
   ]
  },
  {
   "cell_type": "markdown",
   "metadata": {},
   "source": [
    "## Thermal determinant"
   ]
  },
  {
   "cell_type": "markdown",
   "metadata": {},
   "source": [
    "The superconducting and non-superconducting regimes are demarcated by the condition\n",
    "\n",
    "$$ \\det\\left(M_{ij} - \\delta_{ij}\\right) = 0, $$\n",
    "\n",
    "where $M_{ij}$ is given by\n",
    "\n",
    "$$M_{ij} = \\frac{g}{4} \\frac{m}{\\pi \\hbar^2} \\Phi_{ij}\n",
    "      \\int_{DW}d\\xi\\, \\theta(\\xi - \\epsilon_i) \\frac{\\tanh\\left(\\frac{\\beta_c \\xi}{2}\\right)}{\\xi}.$$\n",
    "      \n",
    "Seeing as how, for a 2D system, the density of states can be written as\n",
    "$$N_i(\\xi) = \\frac{m}{\\pi \\hbar^2} \\theta(\\xi - \\epsilon_i), $$\n",
    "we can rewrite this as\n",
    "$$M_{ij} = \\frac{g}{4} \\Phi_{ij}\n",
    "      \\int_{DW}d\\xi\\, N_i(\\xi) \\frac{\\tanh\\left(\\frac{\\beta_c \\xi}{2}\\right)}{\\xi}.$$"
   ]
  },
  {
   "cell_type": "code",
   "execution_count": 3,
   "metadata": {
    "code_folding": [],
    "collapsed": false,
    "scrolled": false
   },
   "outputs": [
    {
     "name": "stdout",
     "output_type": "stream",
     "text": [
      "N(μ) = 0.954929658551372\n",
      "g = 0.698131002666031\n",
      "0\n"
     ]
    }
   ],
   "source": [
    "βs, Ds = BdgSolver.get_Tc(sys)\n",
    "println(0)\n",
    "#plot(βs, Ds, color=\"blue\", linewidth=2.0, linestyle=\"--\")\n",
    "#fig = figure(\"Thermal determinant\",figsize=(4, 2.5))\n",
    "#plt[:style][:use](\"seaborn-pastel\")"
   ]
  },
  {
   "cell_type": "markdown",
   "metadata": {},
   "source": [
    "The biggest problem I have with this is: my value for $g = \\lambda/N(\\mu)$ differs immensely from the one I defined in the Python code, $g_\\mathrm{Py} = 0.18/N_\\mathrm{th}(\\mu)$. The Python code defines $g$ through some experimental value for $gN(\\mu)$, and divides by the theoretical value $N(0)$.\n",
    "\n",
    "$g$ differs by a factor of about $2\\pi$, while $N$ differs by a factor of 10, precisely. Which is funny..."
   ]
  },
  {
   "cell_type": "markdown",
   "metadata": {
    "collapsed": true
   },
   "source": [
    "# TODO:\n",
    "* Make all the parameters realistic.\n",
    "* Add missing factors everywhere (I'm thinking, in front of the thermal integral!)\n",
    "* Add a - \\delta_{ij} to the determinant\n",
    "* Calculate $g$, add it to thermal integral\n",
    "* Add prefactor to DOS\n"
   ]
  },
  {
   "cell_type": "code",
   "execution_count": 4,
   "metadata": {
    "collapsed": false
   },
   "outputs": [
    {
     "data": {
      "text/plain": [
       "0.0954"
      ]
     },
     "execution_count": 4,
     "metadata": {},
     "output_type": "execute_result"
    }
   ],
   "source": [
    "0.0477*2"
   ]
  },
  {
   "cell_type": "code",
   "execution_count": 6,
   "metadata": {
    "collapsed": false
   },
   "outputs": [
    {
     "data": {
      "text/plain": [
       "4.386291662942069"
      ]
     },
     "execution_count": 6,
     "metadata": {},
     "output_type": "execute_result"
    }
   ],
   "source": [
    "0.6981 * 2*pi"
   ]
  },
  {
   "cell_type": "code",
   "execution_count": 8,
   "metadata": {
    "collapsed": false
   },
   "outputs": [
    {
     "data": {
      "text/plain": [
       "0.5654866776461628"
      ]
     },
     "execution_count": 8,
     "metadata": {},
     "output_type": "execute_result"
    }
   ],
   "source": []
  },
  {
   "cell_type": "code",
   "execution_count": null,
   "metadata": {
    "collapsed": true
   },
   "outputs": [],
   "source": []
  }
 ],
 "metadata": {
  "hide_input": false,
  "kernelspec": {
   "display_name": "Julia 0.4.3",
   "language": "julia",
   "name": "julia-0.4"
  },
  "language_info": {
   "file_extension": ".jl",
   "mimetype": "application/julia",
   "name": "julia",
   "version": "0.4.3"
  }
 },
 "nbformat": 4,
 "nbformat_minor": 0
}

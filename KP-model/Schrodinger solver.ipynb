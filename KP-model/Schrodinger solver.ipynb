{
 "cells": [
  {
   "cell_type": "code",
   "execution_count": 3,
   "metadata": {
    "collapsed": true
   },
   "outputs": [],
   "source": [
    "FFTW.set_num_threads(4)\n",
    "using PyPlot"
   ]
  },
  {
   "cell_type": "markdown",
   "metadata": {},
   "source": [
    "First, we enter some general purpose functions, and some potential functions that we'll use to define different systems."
   ]
  },
  {
   "cell_type": "code",
   "execution_count": 26,
   "metadata": {
    "collapsed": false
   },
   "outputs": [
    {
     "ename": "LoadError",
     "evalue": "LoadError: UndefVarError: ComplexFloat not defined\nwhile loading In[26], in expression starting on line 7",
     "output_type": "error",
     "traceback": [
      "LoadError: UndefVarError: ComplexFloat not defined\nwhile loading In[26], in expression starting on line 7",
      ""
     ]
    }
   ],
   "source": [
    "θ(x) = 0.5*(1 + sign(x))\n",
    "\n",
    "A = 100\n",
    "L = 1\n",
    "V(x) = A*(θ(-x-L) + θ(x - L)) # Square well potential\n",
    "#V(x) = A*x.^2 # Harmonic oscillator potential\n",
    "Array{Complex} <: Array{ComplexFloat}"
   ]
  },
  {
   "cell_type": "code",
   "execution_count": 23,
   "metadata": {
    "collapsed": false
   },
   "outputs": [
    {
     "data": {
      "image/png": "[encoded data removed]",
      "text/plain": [
       "PyPlot.Figure(PyObject <matplotlib.figure.Figure object at 0x86435f6c>)"
      ]
     },
     "metadata": {},
     "output_type": "display_data"
    }
   ],
   "source": [
    "xs = collect(linspace(-5, 5, 1000))\n",
    "fig = figure(\"Step function\", figsize=(5,3))\n",
    "ax = gca()\n",
    "ax[:set_xlim]([-5, 5])\n",
    "ax[:set_ylim]([-0.5, 2])\n",
    "plot(xs, V(xs))\n",
    "show()"
   ]
  },
  {
   "cell_type": "markdown",
   "metadata": {},
   "source": [
    "Next up, we look at a Hamiltonian object. The constructor should take a function (the potential), and store a $k$-space representation. The $k$-space representation will inevitably be on some discrete set."
   ]
  },
  {
   "cell_type": "code",
   "execution_count": null,
   "metadata": {
    "collapsed": true
   },
   "outputs": [],
   "source": [
    "typealias KRepresentation Array{Complex} # Can be one or two dimensional representations (Wavefunction or operator)\n",
    "type Hamiltonian\n",
    "    potential::Function\n",
    "    krepresentation::KRepresentation\n",
    "end\n",
    "\n",
    "function Hamiltonian(potential::Function)\n",
    "    krepresentation = \n",
    "end\n",
    "    \n",
    "    "
   ]
  }
 ],
 "metadata": {
  "kernelspec": {
   "display_name": "Julia 0.4.3",
   "language": "julia",
   "name": "julia-0.4"
  },
  "language_info": {
   "file_extension": ".jl",
   "mimetype": "application/julia",
   "name": "julia",
   "version": "0.4.3"
  }
 },
 "nbformat": 4,
 "nbformat_minor": 0
}
